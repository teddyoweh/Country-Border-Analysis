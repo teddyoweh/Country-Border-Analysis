{
 "cells": [
  {
   "cell_type": "code",
   "execution_count": 74,
   "id": "bb2cdd97",
   "metadata": {},
   "outputs": [],
   "source": [
    "import pandas as pd\n",
    "import networkx as nx\n",
    "import matplotlib.pyplot as plt\n"
   ]
  },
  {
   "cell_type": "code",
   "execution_count": 3,
   "id": "d1bad07c",
   "metadata": {},
   "outputs": [],
   "source": [
    "data = pd.read_csv('border.csv')"
   ]
  },
  {
   "cell_type": "code",
   "execution_count": 4,
   "id": "91177858",
   "metadata": {},
   "outputs": [
    {
     "data": {
      "text/html": [
       "<div>\n",
       "<style scoped>\n",
       "    .dataframe tbody tr th:only-of-type {\n",
       "        vertical-align: middle;\n",
       "    }\n",
       "\n",
       "    .dataframe tbody tr th {\n",
       "        vertical-align: top;\n",
       "    }\n",
       "\n",
       "    .dataframe thead th {\n",
       "        text-align: right;\n",
       "    }\n",
       "</style>\n",
       "<table border=\"1\" class=\"dataframe\">\n",
       "  <thead>\n",
       "    <tr style=\"text-align: right;\">\n",
       "      <th></th>\n",
       "      <th>country_code</th>\n",
       "      <th>country_name</th>\n",
       "      <th>country_border_code</th>\n",
       "      <th>country_border_name</th>\n",
       "    </tr>\n",
       "  </thead>\n",
       "  <tbody>\n",
       "    <tr>\n",
       "      <th>0</th>\n",
       "      <td>AD</td>\n",
       "      <td>Andorra</td>\n",
       "      <td>FR</td>\n",
       "      <td>France</td>\n",
       "    </tr>\n",
       "    <tr>\n",
       "      <th>1</th>\n",
       "      <td>AD</td>\n",
       "      <td>Andorra</td>\n",
       "      <td>ES</td>\n",
       "      <td>Spain</td>\n",
       "    </tr>\n",
       "    <tr>\n",
       "      <th>2</th>\n",
       "      <td>AE</td>\n",
       "      <td>United Arab Emirates</td>\n",
       "      <td>OM</td>\n",
       "      <td>Oman</td>\n",
       "    </tr>\n",
       "    <tr>\n",
       "      <th>3</th>\n",
       "      <td>AE</td>\n",
       "      <td>United Arab Emirates</td>\n",
       "      <td>SA</td>\n",
       "      <td>Saudi Arabia</td>\n",
       "    </tr>\n",
       "    <tr>\n",
       "      <th>4</th>\n",
       "      <td>AF</td>\n",
       "      <td>Afghanistan</td>\n",
       "      <td>CN</td>\n",
       "      <td>China</td>\n",
       "    </tr>\n",
       "    <tr>\n",
       "      <th>...</th>\n",
       "      <td>...</td>\n",
       "      <td>...</td>\n",
       "      <td>...</td>\n",
       "      <td>...</td>\n",
       "    </tr>\n",
       "    <tr>\n",
       "      <th>723</th>\n",
       "      <td>ZM</td>\n",
       "      <td>Zambia</td>\n",
       "      <td>ZW</td>\n",
       "      <td>Zimbabwe</td>\n",
       "    </tr>\n",
       "    <tr>\n",
       "      <th>724</th>\n",
       "      <td>ZW</td>\n",
       "      <td>Zimbabwe</td>\n",
       "      <td>BW</td>\n",
       "      <td>Botswana</td>\n",
       "    </tr>\n",
       "    <tr>\n",
       "      <th>725</th>\n",
       "      <td>ZW</td>\n",
       "      <td>Zimbabwe</td>\n",
       "      <td>MZ</td>\n",
       "      <td>Mozambique</td>\n",
       "    </tr>\n",
       "    <tr>\n",
       "      <th>726</th>\n",
       "      <td>ZW</td>\n",
       "      <td>Zimbabwe</td>\n",
       "      <td>ZA</td>\n",
       "      <td>South Africa</td>\n",
       "    </tr>\n",
       "    <tr>\n",
       "      <th>727</th>\n",
       "      <td>ZW</td>\n",
       "      <td>Zimbabwe</td>\n",
       "      <td>ZM</td>\n",
       "      <td>Zambia</td>\n",
       "    </tr>\n",
       "  </tbody>\n",
       "</table>\n",
       "<p>728 rows × 4 columns</p>\n",
       "</div>"
      ],
      "text/plain": [
       "    country_code          country_name country_border_code country_border_name\n",
       "0             AD               Andorra                  FR              France\n",
       "1             AD               Andorra                  ES               Spain\n",
       "2             AE  United Arab Emirates                  OM                Oman\n",
       "3             AE  United Arab Emirates                  SA        Saudi Arabia\n",
       "4             AF           Afghanistan                  CN               China\n",
       "..           ...                   ...                 ...                 ...\n",
       "723           ZM                Zambia                  ZW            Zimbabwe\n",
       "724           ZW              Zimbabwe                  BW            Botswana\n",
       "725           ZW              Zimbabwe                  MZ          Mozambique\n",
       "726           ZW              Zimbabwe                  ZA        South Africa\n",
       "727           ZW              Zimbabwe                  ZM              Zambia\n",
       "\n",
       "[728 rows x 4 columns]"
      ]
     },
     "execution_count": 4,
     "metadata": {},
     "output_type": "execute_result"
    }
   ],
   "source": [
    "data"
   ]
  },
  {
   "cell_type": "code",
   "execution_count": 7,
   "id": "c1a769e1",
   "metadata": {},
   "outputs": [
    {
     "data": {
      "text/plain": [
       "country_code            4\n",
       "country_name            0\n",
       "country_border_code    90\n",
       "country_border_name    86\n",
       "dtype: int64"
      ]
     },
     "execution_count": 7,
     "metadata": {},
     "output_type": "execute_result"
    }
   ],
   "source": [
    "data.isna().sum()"
   ]
  },
  {
   "cell_type": "code",
   "execution_count": 181,
   "id": "6f27f373",
   "metadata": {},
   "outputs": [],
   "source": [
    "\n",
    "country_codes = [_ for _ in data['country_border_code'].unique()]\n"
   ]
  },
  {
   "cell_type": "code",
   "execution_count": 182,
   "id": "b439bd60",
   "metadata": {},
   "outputs": [
    {
     "data": {
      "text/plain": [
       "163"
      ]
     },
     "execution_count": 182,
     "metadata": {},
     "output_type": "execute_result"
    }
   ],
   "source": [
    "len(country_codes)"
   ]
  },
  {
   "cell_type": "code",
   "execution_count": 188,
   "id": "10997bc6",
   "metadata": {},
   "outputs": [],
   "source": [
    " def checkbdcode(code):\n",
    "    return data.loc[data['country_border_code'] == code]['country_border_name'].iloc[0]\n",
    " def checkbdname(name):\n",
    "    return data.loc[data['country_border_code'] == name]['country_border_name'].iloc[0]"
   ]
  },
  {
   "cell_type": "code",
   "execution_count": 196,
   "id": "4d75684b",
   "metadata": {},
   "outputs": [
    {
     "name": "stdout",
     "output_type": "stream",
     "text": [
      "Empty DataFrame\n",
      "Columns: [country_code, country_name, country_border_code, country_border_name]\n",
      "Index: []\n"
     ]
    }
   ],
   "source": [
    "ii = {}\n",
    "for ic in country_codes:\n",
    "    vald = data.loc[data['country_border_code'] == ic]\n",
    "    \n",
    "    try:\n",
    "        ii[str(len(vald))]= vald['country_border_code'].iloc[0]\n",
    "    except:pass\n",
    "        "
   ]
  },
  {
   "cell_type": "code",
   "execution_count": 190,
   "id": "5066f971",
   "metadata": {},
   "outputs": [],
   "source": [
    "xcs = [int(x) for x in ii.keys()]\n",
    "xca =  [x for x in ii.values()]\n",
    "cd =pd.DataFrame()\n",
    "cd['Countries']=xca\n",
    "cd['Border Number']=xcs"
   ]
  },
  {
   "cell_type": "code",
   "execution_count": 191,
   "id": "1b40f54f",
   "metadata": {},
   "outputs": [
    {
     "data": {
      "text/plain": [
       "<AxesSubplot:xlabel='Countries'>"
      ]
     },
     "execution_count": 191,
     "metadata": {},
     "output_type": "execute_result"
    },
    {
     "data": {
      "image/png": "[encoded data removed]",
      "text/plain": [
       "<Figure size 432x288 with 1 Axes>"
      ]
     },
     "metadata": {
      "needs_background": "light"
     },
     "output_type": "display_data"
    }
   ],
   "source": [
    "cd.plot.bar(x='Countries', y='Border Number', rot=0)"
   ]
  },
  {
   "cell_type": "markdown",
   "id": "7e174951",
   "metadata": {},
   "source": [
    "Visually, China shares the most borders."
   ]
  },
  {
   "cell_type": "code",
   "execution_count": 194,
   "id": "3cd7f031",
   "metadata": {},
   "outputs": [
    {
     "data": {
      "text/plain": [
       "'Lesotho'"
      ]
     },
     "execution_count": 194,
     "metadata": {},
     "output_type": "execute_result"
    }
   ],
   "source": [
    "checkbdcode('LS')"
   ]
  },
  {
   "cell_type": "code",
   "execution_count": 176,
   "id": "71033efc",
   "metadata": {},
   "outputs": [],
   "source": [
    "def plotcountry(kk):\n",
    "    boxx=[]\n",
    "    mainx ={}\n",
    "  \n",
    "    dd = [[z,a] for z,a in zip(data.loc[data['country_border_code'] == kk]['country_name'],data.loc[data['country_border_code'] == kk]['country_border_name']) ]\n",
    "    boxx.append(dd)\n",
    "    def plotnet(ddd):\n",
    "        G=nx.Graph()\n",
    "        for c in ddd:\n",
    "            G.add_edge(c[0], c[1])\n",
    "\n",
    "        nx.draw(G, with_labels=True, font_weight='bold')\n",
    "        plt.show()\n",
    "    for ik in boxx:\n",
    "        plotnet(ik)"
   ]
  },
  {
   "cell_type": "code",
   "execution_count": 178,
   "id": "1b87c13c",
   "metadata": {},
   "outputs": [
    {
     "data": {
      "image/png": "[encoded data removed]",
      "text/plain": [
       "<Figure size 432x288 with 1 Axes>"
      ]
     },
     "metadata": {},
     "output_type": "display_data"
    }
   ],
   "source": [
    "plotcountry('CM')"
   ]
  },
  {
   "cell_type": "code",
   "execution_count": 169,
   "id": "6f5f7e4b",
   "metadata": {},
   "outputs": [],
   "source": [
    "def plotall():\n",
    "    boxx=[]\n",
    "    mainx ={}\n",
    "    for kk in country_codes:\n",
    "        dd = [[z,a] for z,a in zip(data.loc[data['country_border_code'] == kk]['country_name'],data.loc[data['country_border_code'] == kk]['country_border_name']) ]\n",
    "        boxx.append(dd)\n",
    "    def plotnet(ddd):\n",
    "        G=nx.Graph()\n",
    "        for c in ddd:\n",
    "            G.add_edge(c[0], c[1])\n",
    "\n",
    "        nx.draw(G, with_labels=True, font_weight='bold')\n",
    "        plt.show()\n",
    "    for ik in boxx:\n",
    "        plotnet(ik)\n",
    "     "
   ]
  },
  {
   "cell_type": "code",
   "execution_count": null,
   "id": "84387107",
   "metadata": {},
   "outputs": [],
   "source": []
  }
 ],
 "metadata": {
  "kernelspec": {
   "display_name": "Python 3 (ipykernel)",
   "language": "python",
   "name": "python3"
  },
  "language_info": {
   "codemirror_mode": {
    "name": "ipython",
    "version": 3
   },
   "file_extension": ".py",
   "mimetype": "text/x-python",
   "name": "python",
   "nbconvert_exporter": "python",
   "pygments_lexer": "ipython3",
   "version": "3.9.12"
  }
 },
 "nbformat": 4,
 "nbformat_minor": 5
}
